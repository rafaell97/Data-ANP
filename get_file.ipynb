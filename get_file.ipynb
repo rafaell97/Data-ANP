{
 "cells": [
  {
   "cell_type": "code",
   "execution_count": 12,
   "id": "0a55ff15-8b27-4e00-9c7e-511e4ce70056",
   "metadata": {},
   "outputs": [
    {
     "name": "stdout",
     "output_type": "stream",
     "text": [
      "Arquivo baixado e descompactado com sucesso.\n"
     ]
    }
   ],
   "source": [
    "import requests\n",
    "from zipfile import ZipFile\n",
    "import io\n",
    "import os\n",
    "from datetime import datetime\n",
    "\n",
    "# URL do arquivo zip\n",
    "url_zip = \"https://www.gov.br/anp/pt-br/centrais-de-conteudo/dados-abertos/arquivos/shpc/dsas/ca/ca-2023-01.zip\"\n",
    "\n",
    "response = requests.get(url_zip)\n",
    "\n",
    "# Verifica se o download foi bem sucedido\n",
    "if response.status_code == 200:\n",
    "    \n",
    "    with ZipFile(io.BytesIO(response.content)) as zip_file:\n",
    "        #Diretório de destino para a extração\n",
    "        \n",
    "        target_path = \"storage/\"\n",
    "\n",
    "        #Extração do arquivo para o diretório de destino\n",
    "        zip_file.extractall(target_path)\n",
    "\n",
    "        #Renomear nome do arquivo\n",
    "        files_zip_success = os.listdir(target_path)\n",
    "        \n",
    "        for file_name in files_zip_success:\n",
    "            \n",
    "            path_original = os.path.join(target_path, file_name)\n",
    "            \n",
    "            file_new_name = 'PRECOS SEMESTRAIS - AUTOMOTIVOS.csv'\n",
    "\n",
    "            path_new_name = os.path.join(target_path, file_new_name)\n",
    "\n",
    "            #Remove arquivo caso exista\n",
    "            if(os.path.exists(path_new_name)):\n",
    "                os.remove(path_new_name)\n",
    "            \n",
    "            os.rename(path_original, path_new_name)\n",
    "        \n",
    "        print(\"Arquivo baixado e descompactado com sucesso.\")\n",
    "else:\n",
    "    print(f\"Erro ao baixar o arquivo. Código de status: {response.status_code}\")\n"
   ]
  },
  {
   "cell_type": "code",
   "execution_count": null,
   "id": "3753cae7-66d2-4139-ad12-62fd05221b0d",
   "metadata": {},
   "outputs": [],
   "source": []
  }
 ],
 "metadata": {
  "kernelspec": {
   "display_name": "Python 3 (ipykernel)",
   "language": "python",
   "name": "python3"
  },
  "language_info": {
   "codemirror_mode": {
    "name": "ipython",
    "version": 3
   },
   "file_extension": ".py",
   "mimetype": "text/x-python",
   "name": "python",
   "nbconvert_exporter": "python",
   "pygments_lexer": "ipython3",
   "version": "3.11.0"
  }
 },
 "nbformat": 4,
 "nbformat_minor": 5
}
